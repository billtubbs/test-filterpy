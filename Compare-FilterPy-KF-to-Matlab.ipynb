{
 "cells": [
  {
   "cell_type": "markdown",
   "id": "552bef3e-84db-4e96-8ea9-cbc13564f886",
   "metadata": {},
   "source": [
    "# Compare FilterPy Kalman Filter to Matlab implementations"
   ]
  },
  {
   "cell_type": "code",
   "execution_count": 57,
   "id": "da9b2b6a-e132-4dd2-aaa9-58ec1d72fc8b",
   "metadata": {},
   "outputs": [
    {
     "name": "stdout",
     "output_type": "stream",
     "text": [
      "numpy: 1.25.2\n",
      "pandas: 2.0.3\n",
      "control: 0.9.4\n",
      "filterpy: 1.4.5\n"
     ]
    }
   ],
   "source": [
    "import os\n",
    "import numpy as np\n",
    "import pandas as pd\n",
    "import matplotlib.pyplot as plt\n",
    "import control as ct\n",
    "import filterpy as fp\n",
    "from filterpy.kalman import KalmanFilter\n",
    "\n",
    "[print(f\"{p.__name__}: {p.__version__}\") for p in [np, pd, ct, fp]];"
   ]
  },
  {
   "cell_type": "code",
   "execution_count": 42,
   "id": "7271fd54-6f89-479a-82ef-ce2a62423bdb",
   "metadata": {},
   "outputs": [
    {
     "data": {
      "text/plain": [
       "['KF_sim_benchmark.csv']"
      ]
     },
     "execution_count": 42,
     "metadata": {},
     "output_type": "execute_result"
    }
   ],
   "source": [
    "#test_data_dir = \"../process-observers/results\"\n",
    "test_data_dir = \"test_data\"\n",
    "[name for name in os.listdir(test_data_dir) if name.endswith('.csv')]"
   ]
  },
  {
   "cell_type": "code",
   "execution_count": 44,
   "id": "f94786c8-a1f8-4f9d-93b3-b0223f0397a3",
   "metadata": {},
   "outputs": [
    {
     "data": {
      "text/html": [
       "<div>\n",
       "<style scoped>\n",
       "    .dataframe tbody tr th:only-of-type {\n",
       "        vertical-align: middle;\n",
       "    }\n",
       "\n",
       "    .dataframe tbody tr th {\n",
       "        vertical-align: top;\n",
       "    }\n",
       "\n",
       "    .dataframe thead th {\n",
       "        text-align: right;\n",
       "    }\n",
       "</style>\n",
       "<table border=\"1\" class=\"dataframe\">\n",
       "  <thead>\n",
       "    <tr style=\"text-align: right;\">\n",
       "      <th></th>\n",
       "      <th>U</th>\n",
       "      <th>V</th>\n",
       "      <th>W_1</th>\n",
       "      <th>W_2</th>\n",
       "      <th>xNprocess_1</th>\n",
       "      <th>xNprocess_2</th>\n",
       "      <th>xNkalman_1</th>\n",
       "      <th>xNkalman_2</th>\n",
       "    </tr>\n",
       "    <tr>\n",
       "      <th>t</th>\n",
       "      <th></th>\n",
       "      <th></th>\n",
       "      <th></th>\n",
       "      <th></th>\n",
       "      <th></th>\n",
       "      <th></th>\n",
       "      <th></th>\n",
       "      <th></th>\n",
       "    </tr>\n",
       "  </thead>\n",
       "  <tbody>\n",
       "    <tr>\n",
       "      <th>0</th>\n",
       "      <td>0</td>\n",
       "      <td>0.340051</td>\n",
       "      <td>0.460293</td>\n",
       "      <td>-0.397140</td>\n",
       "      <td>5.321222</td>\n",
       "      <td>5.321222</td>\n",
       "      <td>0.000000</td>\n",
       "      <td>0.000000</td>\n",
       "    </tr>\n",
       "    <tr>\n",
       "      <th>3</th>\n",
       "      <td>0</td>\n",
       "      <td>1.159851</td>\n",
       "      <td>0.054823</td>\n",
       "      <td>-0.243521</td>\n",
       "      <td>5.531515</td>\n",
       "      <td>4.924082</td>\n",
       "      <td>1.808274</td>\n",
       "      <td>1.768449</td>\n",
       "    </tr>\n",
       "    <tr>\n",
       "      <th>6</th>\n",
       "      <td>0</td>\n",
       "      <td>-1.428620</td>\n",
       "      <td>0.166245</td>\n",
       "      <td>-0.268474</td>\n",
       "      <td>5.694885</td>\n",
       "      <td>5.287994</td>\n",
       "      <td>3.649554</td>\n",
       "      <td>3.668464</td>\n",
       "    </tr>\n",
       "    <tr>\n",
       "      <th>9</th>\n",
       "      <td>0</td>\n",
       "      <td>0.545286</td>\n",
       "      <td>0.268365</td>\n",
       "      <td>0.330653</td>\n",
       "      <td>5.840366</td>\n",
       "      <td>5.426411</td>\n",
       "      <td>2.900010</td>\n",
       "      <td>3.095421</td>\n",
       "    </tr>\n",
       "    <tr>\n",
       "      <th>12</th>\n",
       "      <td>0</td>\n",
       "      <td>0.201605</td>\n",
       "      <td>0.937640</td>\n",
       "      <td>-0.086815</td>\n",
       "      <td>6.085418</td>\n",
       "      <td>6.171019</td>\n",
       "      <td>3.839475</td>\n",
       "      <td>4.067944</td>\n",
       "    </tr>\n",
       "  </tbody>\n",
       "</table>\n",
       "</div>"
      ],
      "text/plain": [
       "    U         V       W_1       W_2  xNprocess_1  xNprocess_2  xNkalman_1  \\\n",
       "t                                                                           \n",
       "0   0  0.340051  0.460293 -0.397140     5.321222     5.321222    0.000000   \n",
       "3   0  1.159851  0.054823 -0.243521     5.531515     4.924082    1.808274   \n",
       "6   0 -1.428620  0.166245 -0.268474     5.694885     5.287994    3.649554   \n",
       "9   0  0.545286  0.268365  0.330653     5.840366     5.426411    2.900010   \n",
       "12  0  0.201605  0.937640 -0.086815     6.085418     6.171019    3.839475   \n",
       "\n",
       "    xNkalman_2  \n",
       "t               \n",
       "0     0.000000  \n",
       "3     1.768449  \n",
       "6     3.668464  \n",
       "9     3.095421  \n",
       "12    4.067944  "
      ]
     },
     "execution_count": 44,
     "metadata": {},
     "output_type": "execute_result"
    }
   ],
   "source": [
    "filename = 'KF_sim_benchmark.csv'\n",
    "test_data = pd.read_csv(os.path.join(test_data_dir, filename), index_col=0)\n",
    "test_data.head()"
   ]
  },
  {
   "cell_type": "markdown",
   "id": "c5a7a387-0c00-420c-8549-7bc92e2be0c3",
   "metadata": {},
   "source": [
    "## Define System"
   ]
  },
  {
   "cell_type": "markdown",
   "id": "4d85543b-4f6b-4b2a-8e2c-0ef4fc632978",
   "metadata": {},
   "source": [
    "MATLAB code from process-observers/sys_test_siso.m"
   ]
  },
  {
   "cell_type": "raw",
   "id": "b514cf83-ed21-423d-b88b-04ba976bd7b6",
   "metadata": {},
   "source": [
    "% SISO system example from GEL-7029 in file Kalman_Filter.mlx\n",
    "\n",
    "Gc = tf(2,conv([10 1],[15 1]));\n",
    "Ts = 3;\n",
    "Gdss = ss(c2d(Gc,Ts,'zoh'));\n",
    "A = Gdss.a; \n",
    "B = Gdss.b;\n",
    "C = Gdss.c;\n",
    "D = Gdss.d;\n",
    "\n",
    "% Check values\n",
    "assert(isequal(round(A,6), [ ...\n",
    "    1.559549   -0.606531\n",
    "    1.000000           0\n",
    "]))\n",
    "assert(isequal(round(B,6), [ ...\n",
    "    0.250000\n",
    "           0\n",
    "]))\n",
    "assert(isequal(round(C,6), [ ...\n",
    "    0.203553    0.172300\n",
    "]))\n",
    "assert(D == 0)\n",
    "\n",
    "\n",
    "% Dimensions\n",
    "n = size(A, 1); % number of states\n",
    "nu = size(B, 2);  % number of inputs\n",
    "ny = size(C, 1); % number of outputs\n",
    "\n",
    "% Covariance of process noise\n",
    "Qp = diag([0.3; 0.2]);\n",
    "\n",
    "% Variance of measurement noise\n",
    "Rp = 0.4;"
   ]
  },
  {
   "cell_type": "code",
   "execution_count": 58,
   "id": "5e1d241a-4a5b-4554-8b9a-364408de7b5b",
   "metadata": {},
   "outputs": [
    {
     "data": {
      "text/latex": [
       "$$\\frac{2}{150 s^2 + 25 s + 1}$$"
      ],
      "text/plain": [
       "TransferFunction(array([2]), array([150,  25,   1]))"
      ]
     },
     "execution_count": 58,
     "metadata": {},
     "output_type": "execute_result"
    }
   ],
   "source": [
    "Gc = ct.tf(2, np.convolve([10, 1], [15, 1]))\n",
    "Gc"
   ]
  },
  {
   "cell_type": "code",
   "execution_count": 59,
   "id": "2f300cc5-637b-4357-9900-c2852ad5a0ef",
   "metadata": {},
   "outputs": [
    {
     "data": {
      "text/latex": [
       "$$\n",
       "\\left(\\begin{array}{rllrll|rll}\n",
       "1.&\\hspace{-1em}56&\\hspace{-1em}\\phantom{\\cdot}&0.&\\hspace{-1em}607&\\hspace{-1em}\\phantom{\\cdot}&1\\phantom{.}&\\hspace{-1em}&\\hspace{-1em}\\phantom{\\cdot}\\\\\n",
       "-1\\phantom{.}&\\hspace{-1em}&\\hspace{-1em}\\phantom{\\cdot}&0\\phantom{.}&\\hspace{-1em}&\\hspace{-1em}\\phantom{\\cdot}&0\\phantom{.}&\\hspace{-1em}&\\hspace{-1em}\\phantom{\\cdot}\\\\\n",
       "\\hline\n",
       "0.&\\hspace{-1em}0509&\\hspace{-1em}\\phantom{\\cdot}&-0.&\\hspace{-1em}0431&\\hspace{-1em}\\phantom{\\cdot}&0\\phantom{.}&\\hspace{-1em}&\\hspace{-1em}\\phantom{\\cdot}\\\\\n",
       "\\end{array}\\right)~,~dt=3\n",
       "$$"
      ],
      "text/plain": [
       "<LinearIOSystem:sys[2]$sampled$converted:['u[0]']->['y[0]']>"
      ]
     },
     "execution_count": 59,
     "metadata": {},
     "output_type": "execute_result"
    }
   ],
   "source": [
    "Ts = 3  # sample time\n",
    "Gdss = ct.ss(ct.c2d(Gc, Ts, 'zoh'))\n",
    "Gdss"
   ]
  },
  {
   "cell_type": "code",
   "execution_count": 78,
   "id": "eb82167a-d842-47be-a450-66e4e10fa40c",
   "metadata": {},
   "outputs": [],
   "source": [
    "# Check system matrices - note different state-space representation\n",
    "# than Matlab\n",
    "A = Gdss.A\n",
    "B = Gdss.B\n",
    "C = Gdss.C\n",
    "D = Gdss.D\n",
    "\n",
    "assert np.array_equal(A.round(8), [\n",
    "    [ 1.55954897,  0.60653066],\n",
    "    [-1.        ,  0.        ]\n",
    "])\n",
    "assert np.array_equal(B.round(8), [\n",
    "    [1.],\n",
    "    [0.]\n",
    "])\n",
    "assert np.array_equal(C.round(8), [\n",
    "    [ 0.05088836, -0.04307501]\n",
    "])\n",
    "assert D == 0.0\n",
    "\n",
    "# Dimensions\n",
    "n = A.shape[0]  # number of states\n",
    "nu = B.shape[1]  # number of inputs\n",
    "ny = C.shape[0]  # number of outputs\n",
    "\n",
    "# Covariance of process noise\n",
    "Qp = np.diag([0.3, 0.2])\n",
    "\n",
    "# Variance of measurement noise\n",
    "Rp = 0.4"
   ]
  },
  {
   "cell_type": "code",
   "execution_count": 79,
   "id": "f7e06182-865a-4f79-9111-a8006cf86aa4",
   "metadata": {},
   "outputs": [],
   "source": [
    "# Initial state of system\n",
    "x0 = np.array([0.1, 0.5])"
   ]
  },
  {
   "cell_type": "markdown",
   "id": "62a192d3-ee64-447d-9cf7-ee4f6d27d3dd",
   "metadata": {},
   "source": [
    "## Simulate system"
   ]
  },
  {
   "cell_type": "code",
   "execution_count": null,
   "id": "4a3f92ee-3a9b-406d-b046-4e1e4b0fc7ea",
   "metadata": {},
   "outputs": [],
   "source": []
  },
  {
   "cell_type": "code",
   "execution_count": null,
   "id": "ffc81843-4bb5-4b5f-8bbf-77a3c5cf4df7",
   "metadata": {},
   "outputs": [],
   "source": []
  },
  {
   "cell_type": "code",
   "execution_count": 39,
   "id": "9a6bea9b-2ced-49b7-9d62-81399dc62a2b",
   "metadata": {},
   "outputs": [
    {
     "data": {
      "text/plain": [
       "KalmanFilter object\n",
       "dim_x = 2\n",
       "dim_z = 1\n",
       "dim_u = 0\n",
       "x = [0.1 0.5]\n",
       "P = [[1. 0.]\n",
       "     [0. 1.]]\n",
       "x_prior = [[0. 0.]].T\n",
       "P_prior = [[1. 0.]\n",
       "           [0. 1.]]\n",
       "x_post = [[0. 0.]].T\n",
       "P_post = [[1. 0.]\n",
       "          [0. 1.]]\n",
       "F = [[1. 0.]\n",
       "     [0. 1.]]\n",
       "Q = [[0.3 0. ]\n",
       "     [0.  0.2]]\n",
       "R = 0.4\n",
       "H = [[0. 0.]]\n",
       "K = [[0. 0.]].T\n",
       "y = [[0.]]\n",
       "S = [[0.]]\n",
       "SI = [[0.]]\n",
       "M = [[0.]]\n",
       "B = None\n",
       "z = [[None]]\n",
       "log-likelihood = -708.3964185322641\n",
       "likelihood = 2.2250738585072014e-308\n",
       "mahalanobis = 0.0\n",
       "alpha = 1.0\n",
       "inv = <function inv at 0x10fcd8fe0>"
      ]
     },
     "execution_count": 39,
     "metadata": {},
     "output_type": "execute_result"
    }
   ],
   "source": [
    "n, nu, ny = 2, 1, 1\n",
    "kf = KalmanFilter(dim_x=n, dim_z=ny)\n",
    "kf.A = A\n",
    "kf.A = B\n",
    "kf.C = C\n",
    "kf.D = D\n",
    "kf.Q = Qp\n",
    "kf.R = Rp\n",
    "kf.x = x0\n",
    "kf"
   ]
  },
  {
   "cell_type": "code",
   "execution_count": 40,
   "id": "7bc8ce47-fa02-4c9c-9904-935a203bb53b",
   "metadata": {},
   "outputs": [
    {
     "name": "stdout",
     "output_type": "stream",
     "text": [
      "Help on method update in module filterpy.kalman.kalman_filter:\n",
      "\n",
      "update(z, R=None, H=None) method of filterpy.kalman.kalman_filter.KalmanFilter instance\n",
      "    Add a new measurement (z) to the Kalman filter.\n",
      "    \n",
      "    If z is None, nothing is computed. However, x_post and P_post are\n",
      "    updated with the prior (x_prior, P_prior), and self.z is set to None.\n",
      "    \n",
      "    Parameters\n",
      "    ----------\n",
      "    z : (dim_z, 1): array_like\n",
      "        measurement for this update. z can be a scalar if dim_z is 1,\n",
      "        otherwise it must be convertible to a column vector.\n",
      "    \n",
      "    R : np.array, scalar, or None\n",
      "        Optionally provide R to override the measurement noise for this\n",
      "        one call, otherwise  self.R will be used.\n",
      "    \n",
      "    H : np.array, or None\n",
      "        Optionally provide H to override the measurement function for this\n",
      "        one call, otherwise self.H will be used.\n",
      "\n"
     ]
    }
   ],
   "source": [
    "help(kf.update)"
   ]
  },
  {
   "cell_type": "code",
   "execution_count": null,
   "id": "7522adc2-5e90-42bd-a256-b26caf5f09b8",
   "metadata": {},
   "outputs": [],
   "source": [
    "# number of points to simulate\n",
    "nT = 100"
   ]
  }
 ],
 "metadata": {
  "kernelspec": {
   "display_name": "Python (kf_bf)",
   "language": "python",
   "name": "kf_bf"
  },
  "language_info": {
   "codemirror_mode": {
    "name": "ipython",
    "version": 3
   },
   "file_extension": ".py",
   "mimetype": "text/x-python",
   "name": "python",
   "nbconvert_exporter": "python",
   "pygments_lexer": "ipython3",
   "version": "3.11.4"
  }
 },
 "nbformat": 4,
 "nbformat_minor": 5
}
